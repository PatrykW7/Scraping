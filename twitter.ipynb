{
 "cells": [
  {
   "cell_type": "code",
   "execution_count": 1,
   "metadata": {},
   "outputs": [
    {
     "name": "stderr",
     "output_type": "stream",
     "text": [
      "C:\\Users\\patry\\AppData\\Local\\Temp\\ipykernel_12772\\2045971387.py:11: DeprecationWarning: executable_path has been deprecated, please pass in a Service object\n",
      "  driver = webdriver.Chrome(r'C:\\\\Selenium\\\\chromedriver.exe')\n"
     ]
    },
    {
     "name": "stdout",
     "output_type": "stream",
     "text": [
      "CHUJ\n"
     ]
    }
   ],
   "source": [
    "from selenium import webdriver\n",
    "from selenium.webdriver.common.by import By\n",
    "from selenium.webdriver.common.keys import Keys\n",
    "from selenium.webdriver.support import expected_conditions as EC\n",
    "from selenium.webdriver.support.ui import WebDriverWait\n",
    "from bs4 import BeautifulSoup\n",
    "import time\n",
    "import pandas as pd\n",
    "import re\n",
    "\n",
    "driver = webdriver.Chrome(r'C:\\\\Selenium\\\\chromedriver.exe')\n",
    "driver.get('https://twitter.com/?lang=pl')\n",
    "time.sleep(2)\n",
    "driver.find_element('xpath','//*[@id=\"layers\"]/div/div[1]/div/div/div/div/div[2]/div/div/div[1]/a').click()\n",
    "time.sleep(2)\n",
    "box = driver.find_element('xpath','//*[@id=\"layers\"]/div[2]/div/div/div/div/div/div[2]/div[2]/div/div/div[2]/div[2]/div/div/div/div[5]/label/div/div[2]/div/input')\n",
    "time.sleep(2)\n",
    "box.send_keys('patryk90020@gmail.com')\n",
    "box.send_keys(Keys.ENTER)\n",
    "\n",
    "celebrity = 'Robert Lewandowski'\n",
    "\n",
    "time.sleep(2)\n",
    "try:\n",
    "    box = driver.find_element('xpath','//*[@id=\"layers\"]/div[2]/div/div/div/div/div/div[2]/div[2]/div/div/div[2]/div[2]/div[1]/div/div[2]/label/div/div[2]/div/input')\n",
    "    box.send_keys('Leszek770')\n",
    "    box.send_keys(Keys.ENTER)\n",
    "except:\n",
    "    pass\n",
    "\n",
    "\n",
    "time.sleep(2)\n",
    "box = driver.find_element('xpath','//*[@id=\"layers\"]/div[2]/div/div/div/div/div/div[2]/div[2]/div/div/div[2]/div[2]/div[1]/div/div/div[3]/div/label/div/div[2]/div[1]/input')\n",
    "box.send_keys('1qazXSW@')\n",
    "box.send_keys(Keys.ENTER)\n",
    "\n",
    "WebDriverWait(driver, 10).until(\n",
    "        EC.presence_of_element_located((By.XPATH,'//*[@id=\"react-root\"]/div/div/div[2]/main/div/div/div/div[2]/div/div[2]/div/div/div/div[1]/div/div/div/form/div[1]/div/div/div/label/div[2]/div/input')))\n",
    "tweets = []\n",
    "tweets2= []\n",
    "\n",
    "search = driver.find_element('xpath','//*[@id=\"react-root\"]/div/div/div[2]/main/div/div/div/div[2]/div/div[2]/div/div/div/div[1]/div/div/div/form/div[1]/div/div/div/label/div[2]/div/input')\n",
    "search.send_keys(celebrity)\n",
    "\n",
    "search.send_keys(Keys.ENTER)\n",
    "time.sleep(2)\n",
    "driver.find_element('xpath','//*[@id=\"react-root\"]/div/div/div[2]/main/div/div/div/div[1]/div/div[1]/div[1]/div[2]/nav/div/div[2]/div/div[3]/a').click()\n",
    "time.sleep(1)\n",
    "driver.find_element('xpath','//*[@id=\"react-root\"]/div/div/div[2]/main/div/div/div/div[1]/div/div[3]/div/section/div/div/div[1]/div/div/div').click()\n",
    "\n",
    "soup = BeautifulSoup(driver.page_source, 'lxml')\n",
    "\n",
    "boxes = soup.find_all('div', {'class' : 'css-901oao r-18jsvk2 r-37j5jr r-a023e6 r-16dba41 r-rjixqe r-bcqeeo r-bnwqim r-qvutc0'})\n",
    "\n",
    "\n",
    "\n",
    "while True:\n",
    "    for box in boxes:\n",
    "        tweets.append(box.text)\n",
    "    driver.execute_script('window.scrollTo(0, document.body.scrollHeight)')\n",
    "    time.sleep(3)\n",
    "    soup = BeautifulSoup(driver.page_source, 'lxml')\n",
    "    boxes = soup.find_all('div', {'class' : 'css-901oao r-18jsvk2 r-37j5jr r-a023e6 r-16dba41 r-rjixqe r-bcqeeo r-bnwqim r-qvutc0'})\n",
    "   \n",
    "    # Usuwanie duplikatow z listy\n",
    "    tweets2 = list(set(tweets))\n",
    "    if len(tweets2) >= 100:\n",
    "        break\n",
    "\n",
    "    \n",
    "    "
   ]
  },
  {
   "cell_type": "code",
   "execution_count": 9,
   "metadata": {},
   "outputs": [
    {
     "name": "stdout",
     "output_type": "stream",
     "text": [
      "<class 'list'>\n"
     ]
    },
    {
     "data": {
      "text/plain": [
       "'Robert Lewandowski:\\nWorld-class striker \\nTerrible goalkeeper \\nWorld-class dad '"
      ]
     },
     "execution_count": 9,
     "metadata": {},
     "output_type": "execute_result"
    }
   ],
   "source": [
    "print(type(tweets2))\n",
    "tweets2[3]"
   ]
  },
  {
   "cell_type": "code",
   "execution_count": 5,
   "metadata": {},
   "outputs": [
    {
     "name": "stdout",
     "output_type": "stream",
     "text": [
      "Jest\n"
     ]
    }
   ],
   "source": [
    "\n",
    "if \"¡Hola! @FCBarcelona\":\n",
    "    print(\"Jest\")\n",
    "else:\n",
    "    print(\"Nie ma \")"
   ]
  },
  {
   "cell_type": "code",
   "execution_count": 11,
   "metadata": {},
   "outputs": [
    {
     "name": "stdout",
     "output_type": "stream",
     "text": [
      "Robert Lewandowski:\n",
      "World-class striker \n",
      "Terrible goalkeeper \n",
      "World-class dad \n",
      "Games for Robert Lewandowski to score 10 goals in all competitions at Bayern:\n",
      "\n",
      "14/15 = 26\n",
      "15/16 = 9\n",
      "16/17 = 12\n",
      "17/18 = 8\n",
      "\n",
      "Quickest yet. \n",
      "With today's hat-trick against #Armenia, Robert Lewandowski has become #Poland's most successful ever goal scorer \n",
      " Four-goal Robert Lewandowski masterclass #OTD in 2013 \n",
      "#UCL | #OnThisDay | @lewy_official\n",
      "Robert LewandowSKILL!  \n",
      "\n",
      "Mehr Skills von @lewy_official & Co. findet ihr bei @Dugout​  http://fcb.de/LewandowskiDugout….\n",
      "Robert Lewandowski for Poland: \n",
      "\n",
      " Caps: 90\n",
      " Goals: 50\n",
      " Poland's Highest Ever Goalscorer\n",
      "\n",
      "Congratulations @Lewy_Official! \n",
      "Robert Lewandowski przekazał na licytację (aplikacja LESS_) swoją koszulkę meczową z pojedynku z Schalke 04, w którym zdobył hat-tricka (24.08.2019).\n",
      "\n",
      "Cały dochód ze sprzedaży zostanie przekazany szpitalom w Polsce. Obecnie najwyższa oferta to ponad 16 tys. PLN.\n",
      ".@Cristiano becomes the first player to score a hat-trick in a #UCL semi-final since Robert Lewandowski in 2012-13 \n",
      "Robert Lewandowski: każdą porażkę możemy obrócić w sukces http://dlvr.it/RkCDZC\n",
      "Congratulations Robert Lewandowski\n",
      "\n",
      "The best men's player in the world! \n",
      "#Goal50\n",
      "Robert Lewandowski this season:\n",
      "\n",
      " Games: 52\n",
      " Goals: 51\n",
      "\n",
      "Best striker in the world \n",
      "Sam na sam z Robertem Lewandowskim. Wyjątkowa aukcja WOŚP: https://laczynaspilka.pl/aktualnosci/sam-na-sam-z-robertem-lewandowskim-wyjatkowa-aukcja-wosp1…\n",
      "108\n"
     ]
    }
   ],
   "source": [
    "for name in tweets2:\n",
    "    if 'Robert' in name:\n",
    "        print(name)\n",
    "print(len(tweets2))"
   ]
  }
 ],
 "metadata": {
  "kernelspec": {
   "display_name": "Python 3",
   "language": "python",
   "name": "python3"
  },
  "language_info": {
   "codemirror_mode": {
    "name": "ipython",
    "version": 3
   },
   "file_extension": ".py",
   "mimetype": "text/x-python",
   "name": "python",
   "nbconvert_exporter": "python",
   "pygments_lexer": "ipython3",
   "version": "3.10.8"
  },
  "orig_nbformat": 4,
  "vscode": {
   "interpreter": {
    "hash": "48dbcc2c72bf8d2667201c39bb40034bc4b6c5bee724662a428e26ea68ec9c81"
   }
  }
 },
 "nbformat": 4,
 "nbformat_minor": 2
}
